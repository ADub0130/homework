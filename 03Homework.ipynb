{
 "cells": [
  {
   "cell_type": "markdown",
   "metadata": {},
   "source": [
    "# Week 3 Homework Assignment\n",
    "\n",
    "1. An Algorithem is a series of steps to solve the problem at hand.\n",
    "\n",
    "2. Variable names may not start with a number(0-9)or special symbols ($#^&).\n",
    "\n",
    "3. A Semantic error is grammatically correct but does not make sense.\n",
    "\n",
    "4. The #1 rule of coding / debugging is complexity is the enemy of efficiency.\n",
    "\n",
    "5. Del, TRUE, FALSE, none, if \n",
    "\n",
    "\n",
    "12. Create a set of about 3 elements\n",
    "    - Add a list of fruits to the above set and print the result\n",
    "    - Add a car element to your set\n",
    "    - Create a 2nd set with a few odd items\n",
    "    - Save the union of 1st set and 2nd set to a 3rd set\n",
    "    - Pop an element from the 2nd set, and print the remainder of the set\n",
    "    - Clear the 1st set and print the result\n",
    "    - Discard an element, and remove another element from the 3rd set\n",
    "    - Print the remainder of the 3rd set\n",
    "\n",
    "<br>\n",
    "\n",
    "13. Create a dictionary with at least 5 values of different data types\n",
    "    - Print out 1 value\n",
    "    - Replace any one value in your dictionary with your name\n",
    "    - Add your favorite color to the dictionary\n",
    "    - Add a list, tuple or set to your dictionary\n",
    "    - Print a list of the dictionary keys\n",
    "    - Print a list of the dictionary values\n",
    "    - Copy your 1st dictionary into a 2nd dictionary\n",
    "    - Pop an item from the 2nd dictionary, and print the dictionary\n",
    "    - Remove all the elements from the 2nd dictionary and print the result\n",
    "\n",
    "<br>\n",
    "\n"
   ]
  },
  {
   "cell_type": "code",
   "execution_count": 2,
   "metadata": {},
   "outputs": [
    {
     "data": {
      "text/plain": [
       "'\\nMy name is Alexandria.\\nMy favorite food is Thai Chicken Fried Rice \\nMy dream job is a business analyst.\\n'"
      ]
     },
     "execution_count": 2,
     "metadata": {},
     "output_type": "execute_result"
    }
   ],
   "source": [
    "#multi-line string\n",
    "\n",
    "\"\"\"\n",
    "My name is Alexandria.\n",
    "My favorite food is Thai Chicken Fried Rice\n",
    "My dream job is a business analyst.\n",
    "\"\"\""
   ]
  },
  {
   "cell_type": "code",
   "execution_count": 11,
   "metadata": {},
   "outputs": [
    {
     "name": "stdout",
     "output_type": "stream",
     "text": [
      "The length is  10\n",
      "a\n"
     ]
    }
   ],
   "source": [
    "name = \"Alexandria\"\n",
    "age = 100\n",
    "height = 4.4 \n",
    "is_tall = True\n",
    "hobbies = (\"baking\", \"traveling\", \"running\")\n",
    "\n",
    "print(\"The length is \", len(name))\n",
    "print(name[4])\n",
    "\n",
    "\n"
   ]
  },
  {
   "cell_type": "code",
   "execution_count": 31,
   "metadata": {},
   "outputs": [
    {
     "name": "stdout",
     "output_type": "stream",
     "text": [
      "ing Data Analytics \n",
      "Learning Data Analytics and Python is Great!\n"
     ]
    }
   ],
   "source": [
    "savvy = \"Learning Data Analytics and Python is Awesome!\"\n",
    "\n",
    "#Return a range of characters that slices the above string from the beginning of  \"ing\" up to before \"and\"\n",
    "\n",
    "print(savvy[5:24])\n",
    "\n",
    "#Replace \"Awesome\" with \"great\" in the string\n",
    "\n",
    "print(savvy.replace(\"Awesome\",\"Great\"))\n",
    "\n",
    "\n"
   ]
  },
  {
   "cell_type": "code",
   "execution_count": 38,
   "metadata": {},
   "outputs": [
    {
     "name": "stdout",
     "output_type": "stream",
     "text": [
      "My name is Alexandria. My age is 100. I am 170 inches tall. \n",
      "100.0\n"
     ]
    }
   ],
   "source": [
    "name = \"Alexandria\"\n",
    "age = 100\n",
    "length = 170\n",
    "\n",
    "minibio = (\n",
    "   f\"My name is {name}. \"\n",
    "   f\"My age is {age}. \"\n",
    "   f\"I am {length} inches tall. \"\n",
    "\n",
    ")\n",
    "print(minibio)\n",
    "\n",
    "age = float(100)\n",
    "print(age)"
   ]
  },
  {
   "cell_type": "markdown",
   "metadata": {},
   "source": [
    "#### Create a list of at least 5 elements of mixed data types\n",
    "    "
   ]
  },
  {
   "cell_type": "code",
   "execution_count": 64,
   "metadata": {},
   "outputs": [
    {
     "name": "stdout",
     "output_type": "stream",
     "text": [
      "[1, 'apple', 3.1, [1, 3, 5], 'Alex', 0]\n",
      "Length is  6\n",
      "[3.1, [1, 3, 5]]\n",
      "[1, 'apple', 3.1, [1, 3, 5], 'Alex', 0, 3.1, [1, 3, 5]]\n",
      "[12, 43, 65, 71, 100]\n",
      "[12, 43, 65, 71, 100]\n",
      "[12, 43, 65, 71, 100, 12, 43, 65, 71, 100]\n"
     ]
    }
   ],
   "source": [
    "lazy_list=[1,\"apple\",3.1,[1,3,5],'Alex']\n",
    "lazy_list.append(0)\n",
    "print(lazy_list)\n",
    "\n",
    "listlen = len(lazy_list)\n",
    "print(\"Length is \", len(lazy_list))\n",
    "\n",
    "second_lazy = lazy_list[2:4]\n",
    "print(second_lazy)\n",
    "\n",
    "lazy_list.extend(second_lazy)\n",
    "print(lazy_list)\n",
    "\n",
    "simList= [100,43,12,71,65]\n",
    "simList.sort()\n",
    "print(simList)\n",
    "\n",
    "simList3 = simList.copy()\n",
    "print(simList3)\n",
    "\n",
    "simList4 = simList + simList3\n",
    "print(simList4)\n",
    "\n",
    "\n",
    "\n"
   ]
  },
  {
   "cell_type": "markdown",
   "metadata": {},
   "source": [
    "#### Tuples"
   ]
  },
  {
   "cell_type": "code",
   "execution_count": 93,
   "metadata": {},
   "outputs": [
    {
     "name": "stdout",
     "output_type": "stream",
     "text": [
      "(12, 4, 7, 300, 98, 12, 4, 7, 300, 98, 12, 4, 7, 300, 98)\n",
      "(12, 4, 7, 300, 98, 12, 4, 7, 300, 98, 12, 4, 7, 300, 98)\n",
      "[4, 4, 4, 7, 7, 7, 12, 12, 12, 98, 98, 98, 300, 300, 300]\n",
      "(7, 7, 12, 12)\n"
     ]
    }
   ],
   "source": [
    "tuple1 = (12, 4, 7, 300,98)\n",
    "print(tuple1 *3)\n",
    "tuple2 = tuple1 *3\n",
    "print(tuple2)\n",
    "sorted_tuple = sorted(tuple2)\n",
    "print(sorted_tuple)\n",
    "tuple3 = (sorted_tuple[3],sorted_tuple[5],sorted_tuple[7],sorted_tuple[8])\n",
    "print(tuple3)\n",
    "\n",
    "\n",
    "\n"
   ]
  },
  {
   "cell_type": "markdown",
   "metadata": {},
   "source": [
    "#### Sets\n"
   ]
  },
  {
   "cell_type": "code",
   "execution_count": 97,
   "metadata": {},
   "outputs": [
    {
     "name": "stdout",
     "output_type": "stream",
     "text": [
      "Set after adding fruits: {'banana', 1, 2, 3, 'cherry', 'apple'}\n",
      "Set after adding car: {'banana', 1, 2, 3, 'cherry', 'car', 'apple'}\n",
      "Set2: {9, 5, 7}\n",
      "Set3 (union of set1 and set2): {'banana', 1, 2, 3, 5, 'cherry', 7, 9, 'car', 'apple'}\n",
      "Popped item: 9\n",
      "Remaining in set2: {5, 7}\n",
      "Set1 after clearing: set()\n",
      "Set3 after discard and remove: {'banana', 2, 3, 'cherry', 7, 9, 'car', 'apple'}\n",
      "Final Set3: {'banana', 2, 3, 'cherry', 7, 9, 'car', 'apple'}\n"
     ]
    }
   ],
   "source": [
    "set1 = {1, 2, 3}\n",
    "set1.update([\"apple\", \"banana\", \"cherry\"])\n",
    "print(\"Set after adding fruits:\", set1)\n",
    "set1.add(\"car\")\n",
    "print(\"Set after adding car:\", set1)\n",
    "set2 = {5, 7, 9}\n",
    "print(\"Set2:\", set2)\n",
    "set3 = set1.union(set2)\n",
    "print(\"Set3 (union of set1 and set2):\", set3)\n",
    "popped_item = set2.pop()\n",
    "print(\"Popped item:\", popped_item)\n",
    "print(\"Remaining in set2:\", set2)\n",
    "set1.clear()\n",
    "print(\"Set1 after clearing:\", set1)\n",
    "set3.discard(1) \n",
    "set3.remove(5)   \n",
    "print(\"Set3 after discard and remove:\", set3)\n",
    "print(\"Final Set3:\", set3)"
   ]
  }
 ],
 "metadata": {
  "kernelspec": {
   "display_name": "Python 3",
   "language": "python",
   "name": "python3"
  },
  "language_info": {
   "codemirror_mode": {
    "name": "ipython",
    "version": 3
   },
   "file_extension": ".py",
   "mimetype": "text/x-python",
   "name": "python",
   "nbconvert_exporter": "python",
   "pygments_lexer": "ipython3",
   "version": "3.13.1"
  }
 },
 "nbformat": 4,
 "nbformat_minor": 2
}
